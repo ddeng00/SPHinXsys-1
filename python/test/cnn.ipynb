{
 "cells": [
  {
   "cell_type": "code",
   "execution_count": 1,
   "metadata": {},
   "outputs": [],
   "source": [
    "import argparse\n",
    "from pathlib import Path\n",
    "import numpy as np\n",
    "import wandb\n",
    "\n",
    "import torch\n",
    "from torch import nn\n",
    "from torch.utils.data import Dataset, DataLoader, random_split\n",
    "from torch.cuda.amp import GradScaler, autocast\n",
    "\n",
    "torch.cuda.empty_cache()"
   ]
  },
  {
   "cell_type": "markdown",
   "metadata": {},
   "source": [
    "# Utils"
   ]
  },
  {
   "cell_type": "code",
   "execution_count": 2,
   "metadata": {},
   "outputs": [],
   "source": [
    "DIR_BASE = Path('/home/daniel/sphinxsys-build/cases_jan/heart/bin/data')\n",
    "\n",
    "\n",
    "def dir_path_validator(value):\n",
    "    p = Path(value)\n",
    "    if not p.exists() or not p.is_dir():\n",
    "        msg = \"{value} is not valid path to an existing directory\".format(\n",
    "            value=value)\n",
    "        raise argparse.ArgumentTypeError(msg)\n",
    "    return p.resolve()\n",
    "\n",
    "\n",
    "MODEL_SIZES = {\n",
    "    'S': (32, 64, 128),\n",
    "    'M': (64, 128, 256),\n",
    "    'L': (128, 256, 512)\n",
    "}\n"
   ]
  },
  {
   "cell_type": "markdown",
   "metadata": {},
   "source": [
    "# Model Definition"
   ]
  },
  {
   "cell_type": "code",
   "execution_count": 3,
   "metadata": {},
   "outputs": [],
   "source": [
    "class Autoencoder(nn.Module):\n",
    "    def __init__(self, time_step=3, filter_sizes=(32, 64, 128)):\n",
    "        super(Autoencoder, self).__init__()\n",
    "\n",
    "        self.encoder_layers_0 = self._encoder_layer(3*time_step, filter_sizes[0])\n",
    "        self.encoder_layers_1 = self._encoder_layer(filter_sizes[0], filter_sizes[1])\n",
    "        self.encoder_layers_2 = self._encoder_layer(filter_sizes[1], filter_sizes[2])\n",
    "\n",
    "        self.bottleneck_layers = nn.Sequential(\n",
    "            nn.Conv3d(filter_sizes[2], filter_sizes[2]*2, 3, padding='same'),\n",
    "            nn.BatchNorm3d(filter_sizes[2]*2),\n",
    "            nn.LeakyReLU(),\n",
    "        )\n",
    "\n",
    "        self.decoder_layers_0 = self._decoder_layer(filter_sizes[2]*2, filter_sizes[2])\n",
    "        self.decoder_layers_1 = self._decoder_layer(filter_sizes[2], filter_sizes[1])\n",
    "        self.decoder_layers_2 = self._decoder_layer(filter_sizes[1], filter_sizes[0])\n",
    "        \n",
    "        self.output_layers = nn.Sequential(\n",
    "            nn.Conv3d(filter_sizes[0], 1, 3, padding='same'),\n",
    "            nn.BatchNorm3d(1),\n",
    "            nn.Tanh(),\n",
    "        )\n",
    "\n",
    "    def _encoder_layer(self, in_channels, out_channels):\n",
    "        layers = nn.Sequential(\n",
    "            nn.Conv3d(in_channels, out_channels, 3, padding='same'),\n",
    "            nn.BatchNorm3d(out_channels),\n",
    "            nn.LeakyReLU(),\n",
    "            nn.MaxPool3d(2),\n",
    "        )\n",
    "        return layers\n",
    "\n",
    "    def _decoder_layer(self, in_channels, out_channels):\n",
    "        layers = nn.Sequential(\n",
    "            nn.Upsample(scale_factor=2),\n",
    "            nn.Conv3d(in_channels, out_channels, 3, padding='same'),\n",
    "            nn.BatchNorm3d(out_channels),\n",
    "            nn.LeakyReLU(),\n",
    "        )\n",
    "        return layers\n",
    "\n",
    "    def forward(self, x):\n",
    "        out = self.encoder_layers_0(x)\n",
    "        out = self.encoder_layers_1(out)\n",
    "        out = self.encoder_layers_2(out)\n",
    "        out = self.bottleneck_layers(out)\n",
    "        out = self.decoder_layers_0(out)\n",
    "        out = self.decoder_layers_1(out)\n",
    "        out = self.decoder_layers_2(out)\n",
    "        out = self.output_layers(out)\n",
    "        return out\n",
    "\n",
    "class SPHDataset(Dataset):\n",
    "    def __init__(self, data_dir):\n",
    "        self.data_files = list(data_dir.glob('*.npz'))\n",
    "    \n",
    "    def __len__(self):\n",
    "        return len(self.data_files)\n",
    "\n",
    "    def __getitem__(self, idx):\n",
    "        file = np.load(self.data_files[idx])\n",
    "        X, Y = file['Displacement'], file['Voltage']\n",
    "        X = torch.from_numpy(X)\n",
    "        Y = torch.from_numpy(Y)\n",
    "        return X, Y"
   ]
  },
  {
   "cell_type": "markdown",
   "metadata": {},
   "source": [
    "# "
   ]
  },
  {
   "cell_type": "markdown",
   "metadata": {},
   "source": [
    "# Main"
   ]
  },
  {
   "cell_type": "code",
   "execution_count": 4,
   "metadata": {},
   "outputs": [
    {
     "name": "stderr",
     "output_type": "stream",
     "text": [
      "Failed to detect the name of this notebook, you can set it manually with the WANDB_NOTEBOOK_NAME environment variable to enable code saving.\n",
      "\u001b[34m\u001b[1mwandb\u001b[0m: Currently logged in as: \u001b[33mddeng00\u001b[0m (use `wandb login --relogin` to force relogin)\n"
     ]
    },
    {
     "data": {
      "text/html": [
       "Tracking run with wandb version 0.12.11"
      ],
      "text/plain": [
       "<IPython.core.display.HTML object>"
      ]
     },
     "metadata": {},
     "output_type": "display_data"
    },
    {
     "data": {
      "text/html": [
       "Run data is saved locally in <code>/home/daniel/sphinxsys/python/test/wandb/run-20220314_092149-2t4g4vcx</code>"
      ],
      "text/plain": [
       "<IPython.core.display.HTML object>"
      ]
     },
     "metadata": {},
     "output_type": "display_data"
    },
    {
     "data": {
      "text/html": [
       "Syncing run <strong><a href=\"https://wandb.ai/ddeng00/SPH-CNN/runs/2t4g4vcx\" target=\"_blank\">turtle-mousse-88</a></strong> to <a href=\"https://wandb.ai/ddeng00/SPH-CNN\" target=\"_blank\">Weights & Biases</a> (<a href=\"https://wandb.me/run\" target=\"_blank\">docs</a>)<br/>"
      ],
      "text/plain": [
       "<IPython.core.display.HTML object>"
      ]
     },
     "metadata": {},
     "output_type": "display_data"
    }
   ],
   "source": [
    "# Set up wandb\n",
    "wandb.init(project=\"SPH-CNN\", entity=\"ddeng00\")\n",
    "wandb.config = {\n",
    "    'epochs': 25,\n",
    "    'batch_size': 14,\n",
    "    'model_size': 'S',\n",
    "    'time_step': 3,\n",
    "    'learning_rate': 0.001,\n",
    "    # 'test_split': 0.05,\n",
    "}"
   ]
  },
  {
   "cell_type": "code",
   "execution_count": 5,
   "metadata": {},
   "outputs": [
    {
     "name": "stdout",
     "output_type": "stream",
     "text": [
      "Using cuda device\n"
     ]
    }
   ],
   "source": [
    "# Get device\n",
    "device = \"cuda\" if torch.cuda.is_available() else \"cpu\"\n",
    "print(f\"Using {device} device\")"
   ]
  },
  {
   "cell_type": "code",
   "execution_count": 6,
   "metadata": {},
   "outputs": [],
   "source": [
    "# Load data\n",
    "sph_dataset = SPHDataset(DIR_BASE)\n",
    "sph_dataloader = DataLoader(sph_dataset, batch_size=wandb.config['batch_size'], num_workers=4, shuffle=True, pin_memory=True)\n",
    "\n",
    "\n",
    "# test_size = int(wandb.config['test_split'] * len(sph_dataset))\n",
    "# train_size = len(sph_dataset) - test_size\n",
    "# train_dataset, test_dataset = random_split(\n",
    "#     sph_dataset, [train_size, test_size])\n",
    "# train_dataloader = DataLoader(\n",
    "#     train_dataset, batch_size=wandb.config['batch_size'], shuffle=True, pin_memory=True)\n",
    "# test_dataloader = DataLoader(\n",
    "#     test_dataset, batch_size=wandb.config['batch_size'], shuffle=True)\n"
   ]
  },
  {
   "cell_type": "code",
   "execution_count": 7,
   "metadata": {},
   "outputs": [],
   "source": [
    "# Instantiate Model\n",
    "model = Autoencoder(time_step=wandb.config['time_step'],\n",
    "                    filter_sizes=MODEL_SIZES[wandb.config['model_size']]).to(device, dtype=torch.float)\n",
    "\n",
    "# Loss function\n",
    "criterion = nn.MSELoss()\n",
    "\n",
    "# Optimizer\n",
    "optimizer = torch.optim.Adam(\n",
    "    model.parameters(), lr=wandb.config['learning_rate'])"
   ]
  },
  {
   "cell_type": "markdown",
   "metadata": {},
   "source": [
    "## Training"
   ]
  },
  {
   "cell_type": "code",
   "execution_count": 8,
   "metadata": {},
   "outputs": [],
   "source": [
    "scaler = GradScaler()\n",
    "for epoch in range(wandb.config['epochs']):\n",
    "    train_loss = 0.0\n",
    "    for input, target in sph_dataloader:\n",
    "        input = input.to(device, dtype=torch.float, non_blocking=True)\n",
    "        target = target.to(device, dtype=torch.float, non_blocking=True)\n",
    "        optimizer.zero_grad()\n",
    "        with autocast():\n",
    "            output = model(input)\n",
    "            loss = criterion(output, target)\n",
    "\n",
    "        scaler.scale(loss).backward()\n",
    "        scaler.step(optimizer)\n",
    "        scaler.update()\n",
    "\n",
    "        train_loss += loss.item()\n",
    "\n",
    "    train_loss = train_loss / len(sph_dataloader)\n",
    "    wandb.log({'train_loss': train_loss})"
   ]
  },
  {
   "cell_type": "code",
   "execution_count": 10,
   "metadata": {},
   "outputs": [],
   "source": [
    "torch.save(model.state_dict(), Path('/home/daniel/sphinxsys-build/cases_jan/heart/bin/model.pt'))"
   ]
  }
 ],
 "metadata": {
  "interpreter": {
   "hash": "916dbcbb3f70747c44a77c7bcd40155683ae19c65e1c03b4aa3499c5328201f1"
  },
  "kernelspec": {
   "display_name": "Python 3.8.10 64-bit",
   "language": "python",
   "name": "python3"
  },
  "language_info": {
   "codemirror_mode": {
    "name": "ipython",
    "version": 3
   },
   "file_extension": ".py",
   "mimetype": "text/x-python",
   "name": "python",
   "nbconvert_exporter": "python",
   "pygments_lexer": "ipython3",
   "version": "3.8.10"
  },
  "orig_nbformat": 4
 },
 "nbformat": 4,
 "nbformat_minor": 2
}
