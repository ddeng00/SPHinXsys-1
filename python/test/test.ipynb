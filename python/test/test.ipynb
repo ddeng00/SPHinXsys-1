{
 "cells": [
  {
   "cell_type": "code",
   "execution_count": 1,
   "metadata": {},
   "outputs": [],
   "source": [
    "import pyvista as pv\n",
    "import numpy as np\n",
    "from pathlib import Path"
   ]
  },
  {
   "cell_type": "code",
   "execution_count": 2,
   "metadata": {},
   "outputs": [],
   "source": [
    "DIR_BASE = Path('/home/daniel/sphinxsys-build/cases_jan/heart/bin/output/0')\n",
    "files = sorted(DIR_BASE.rglob('*.npz'))"
   ]
  },
  {
   "cell_type": "code",
   "execution_count": 4,
   "metadata": {
    "scrolled": false
   },
   "outputs": [
    {
     "data": {
      "text/plain": [
       "array([[1.0787993e-04],\n",
       "       [1.0764931e-04],\n",
       "       [9.8077478e-05],\n",
       "       ...,\n",
       "       [9.8613518e-01],\n",
       "       [9.8875868e-01],\n",
       "       [9.8919356e-01]], dtype=float32)"
      ]
     },
     "execution_count": 4,
     "metadata": {},
     "output_type": "execute_result"
    }
   ],
   "source": [
    "data = np.load(files[130])\n",
    "data['XYZ']\n",
    "data['Voltage']"
   ]
  },
  {
   "cell_type": "code",
   "execution_count": 4,
   "metadata": {},
   "outputs": [
    {
     "name": "stdout",
     "output_type": "stream",
     "text": [
      "[0 0 1 1 0 0 1 1]\n",
      "[0 0 0 0 1 1 1 1]\n",
      "[0 1 0 1 0 1 0 1]\n",
      "[1 1 2 2 1 1 2 2]\n"
     ]
    }
   ],
   "source": [
    "xx, yy, zz = np.arange(2), np.arange(2), np.arange(2)\n",
    "xx, yy, zz = np.meshgrid(xx, yy, zz)\n",
    "print(xx.ravel())\n",
    "print(yy.ravel())\n",
    "print(zz.ravel())\n",
    "\n",
    "print(np.add(xx, 1).ravel())\n",
    "# grid = np.array([np.array([x, y, z]) for x in np.arange(-55, 35)\n",
    "#                      for y in np.arange(-75, 5) for z in np.arange(-35, 35)])"
   ]
  },
  {
   "cell_type": "code",
   "execution_count": 5,
   "metadata": {},
   "outputs": [
    {
     "name": "stdout",
     "output_type": "stream",
     "text": [
      "(1, 1, 1)\n"
     ]
    }
   ],
   "source": [
    "a = 1\n",
    "b = 1\n",
    "c = 1\n",
    "d = a, b, c\n",
    "print(d)\n"
   ]
  },
  {
   "cell_type": "code",
   "execution_count": 34,
   "metadata": {},
   "outputs": [
    {
     "name": "stdout",
     "output_type": "stream",
     "text": [
      "[[[1]]]\n"
     ]
    }
   ],
   "source": [
    "mat = np.empty((1,1,1), dtype=int)\n",
    "mat[0,(0,0)]=1\n",
    "print(mat)"
   ]
  },
  {
   "cell_type": "code",
   "execution_count": null,
   "metadata": {},
   "outputs": [],
   "source": []
  }
 ],
 "metadata": {
  "interpreter": {
   "hash": "916dbcbb3f70747c44a77c7bcd40155683ae19c65e1c03b4aa3499c5328201f1"
  },
  "kernelspec": {
   "display_name": "Python 3 (ipykernel)",
   "language": "python",
   "name": "python3"
  },
  "language_info": {
   "codemirror_mode": {
    "name": "ipython",
    "version": 3
   },
   "file_extension": ".py",
   "mimetype": "text/x-python",
   "name": "python",
   "nbconvert_exporter": "python",
   "pygments_lexer": "ipython3",
   "version": "3.8.10"
  }
 },
 "nbformat": 4,
 "nbformat_minor": 2
}
